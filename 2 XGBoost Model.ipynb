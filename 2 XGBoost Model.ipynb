{
 "cells": [
  {
   "cell_type": "markdown",
   "metadata": {},
   "source": [
    "### Number of Tasks\n",
    "\n",
    "1. Monitor Training Performance and Early Stopping\n",
    "2. Tune Multithreading Support for XGBoost"
   ]
  },
  {
   "cell_type": "code",
   "execution_count": 53,
   "metadata": {},
   "outputs": [],
   "source": [
    "import numpy as np\n",
    "import pandas as pd\n",
    "import matplotlib.pyplot as plt\n",
    "from xgboost import XGBClassifier\n",
    "from sklearn.model_selection import train_test_split\n",
    "from sklearn.metrics import accuracy_score\n",
    "from sklearn.preprocessing import LabelEncoder\n",
    "from sklearn.preprocessing import OneHotEncoder\n",
    "from sklearn.model_selection import KFold\n",
    "from sklearn.model_selection import cross_val_score\n",
    "from xgboost import plot_tree\n",
    "import pickle\n",
    "from sklearn.externals import joblib\n",
    "from xgboost import plot_importance\n",
    "from sklearn.feature_selection import SelectFromModel\n",
    "from time import time\n",
    "from sklearn.model_selection import StratifiedKFold\n"
   ]
  },
  {
   "cell_type": "markdown",
   "metadata": {},
   "source": [
    "### Reading Dataset¶"
   ]
  },
  {
   "cell_type": "code",
   "execution_count": 11,
   "metadata": {},
   "outputs": [],
   "source": [
    "titanic = pd.read_csv('/home/hasan/DATA SET/titanic dataset/train.csv')"
   ]
  },
  {
   "cell_type": "markdown",
   "metadata": {},
   "source": [
    "### Summarize the dataset"
   ]
  },
  {
   "cell_type": "code",
   "execution_count": 12,
   "metadata": {},
   "outputs": [
    {
     "data": {
      "text/html": [
       "<div>\n",
       "<style scoped>\n",
       "    .dataframe tbody tr th:only-of-type {\n",
       "        vertical-align: middle;\n",
       "    }\n",
       "\n",
       "    .dataframe tbody tr th {\n",
       "        vertical-align: top;\n",
       "    }\n",
       "\n",
       "    .dataframe thead th {\n",
       "        text-align: right;\n",
       "    }\n",
       "</style>\n",
       "<table border=\"1\" class=\"dataframe\">\n",
       "  <thead>\n",
       "    <tr style=\"text-align: right;\">\n",
       "      <th></th>\n",
       "      <th>PassengerId</th>\n",
       "      <th>Survived</th>\n",
       "      <th>Pclass</th>\n",
       "      <th>Name</th>\n",
       "      <th>Sex</th>\n",
       "      <th>Age</th>\n",
       "      <th>SibSp</th>\n",
       "      <th>Parch</th>\n",
       "      <th>Ticket</th>\n",
       "      <th>Fare</th>\n",
       "      <th>Cabin</th>\n",
       "      <th>Embarked</th>\n",
       "    </tr>\n",
       "  </thead>\n",
       "  <tbody>\n",
       "    <tr>\n",
       "      <th>0</th>\n",
       "      <td>1</td>\n",
       "      <td>0</td>\n",
       "      <td>3</td>\n",
       "      <td>Braund, Mr. Owen Harris</td>\n",
       "      <td>male</td>\n",
       "      <td>22.0</td>\n",
       "      <td>1</td>\n",
       "      <td>0</td>\n",
       "      <td>A/5 21171</td>\n",
       "      <td>7.2500</td>\n",
       "      <td>NaN</td>\n",
       "      <td>S</td>\n",
       "    </tr>\n",
       "    <tr>\n",
       "      <th>1</th>\n",
       "      <td>2</td>\n",
       "      <td>1</td>\n",
       "      <td>1</td>\n",
       "      <td>Cumings, Mrs. John Bradley (Florence Briggs Th...</td>\n",
       "      <td>female</td>\n",
       "      <td>38.0</td>\n",
       "      <td>1</td>\n",
       "      <td>0</td>\n",
       "      <td>PC 17599</td>\n",
       "      <td>71.2833</td>\n",
       "      <td>C85</td>\n",
       "      <td>C</td>\n",
       "    </tr>\n",
       "    <tr>\n",
       "      <th>2</th>\n",
       "      <td>3</td>\n",
       "      <td>1</td>\n",
       "      <td>3</td>\n",
       "      <td>Heikkinen, Miss. Laina</td>\n",
       "      <td>female</td>\n",
       "      <td>26.0</td>\n",
       "      <td>0</td>\n",
       "      <td>0</td>\n",
       "      <td>STON/O2. 3101282</td>\n",
       "      <td>7.9250</td>\n",
       "      <td>NaN</td>\n",
       "      <td>S</td>\n",
       "    </tr>\n",
       "    <tr>\n",
       "      <th>3</th>\n",
       "      <td>4</td>\n",
       "      <td>1</td>\n",
       "      <td>1</td>\n",
       "      <td>Futrelle, Mrs. Jacques Heath (Lily May Peel)</td>\n",
       "      <td>female</td>\n",
       "      <td>35.0</td>\n",
       "      <td>1</td>\n",
       "      <td>0</td>\n",
       "      <td>113803</td>\n",
       "      <td>53.1000</td>\n",
       "      <td>C123</td>\n",
       "      <td>S</td>\n",
       "    </tr>\n",
       "    <tr>\n",
       "      <th>4</th>\n",
       "      <td>5</td>\n",
       "      <td>0</td>\n",
       "      <td>3</td>\n",
       "      <td>Allen, Mr. William Henry</td>\n",
       "      <td>male</td>\n",
       "      <td>35.0</td>\n",
       "      <td>0</td>\n",
       "      <td>0</td>\n",
       "      <td>373450</td>\n",
       "      <td>8.0500</td>\n",
       "      <td>NaN</td>\n",
       "      <td>S</td>\n",
       "    </tr>\n",
       "  </tbody>\n",
       "</table>\n",
       "</div>"
      ],
      "text/plain": [
       "   PassengerId  Survived  Pclass  \\\n",
       "0            1         0       3   \n",
       "1            2         1       1   \n",
       "2            3         1       3   \n",
       "3            4         1       1   \n",
       "4            5         0       3   \n",
       "\n",
       "                                                Name     Sex   Age  SibSp  \\\n",
       "0                            Braund, Mr. Owen Harris    male  22.0      1   \n",
       "1  Cumings, Mrs. John Bradley (Florence Briggs Th...  female  38.0      1   \n",
       "2                             Heikkinen, Miss. Laina  female  26.0      0   \n",
       "3       Futrelle, Mrs. Jacques Heath (Lily May Peel)  female  35.0      1   \n",
       "4                           Allen, Mr. William Henry    male  35.0      0   \n",
       "\n",
       "   Parch            Ticket     Fare Cabin Embarked  \n",
       "0      0         A/5 21171   7.2500   NaN        S  \n",
       "1      0          PC 17599  71.2833   C85        C  \n",
       "2      0  STON/O2. 3101282   7.9250   NaN        S  \n",
       "3      0            113803  53.1000  C123        S  \n",
       "4      0            373450   8.0500   NaN        S  "
      ]
     },
     "execution_count": 12,
     "metadata": {},
     "output_type": "execute_result"
    }
   ],
   "source": [
    "titanic.head()"
   ]
  },
  {
   "cell_type": "code",
   "execution_count": 13,
   "metadata": {},
   "outputs": [
    {
     "data": {
      "text/plain": [
       "(891, 12)"
      ]
     },
     "execution_count": 13,
     "metadata": {},
     "output_type": "execute_result"
    }
   ],
   "source": [
    "titanic.shape"
   ]
  },
  {
   "cell_type": "code",
   "execution_count": 16,
   "metadata": {},
   "outputs": [
    {
     "data": {
      "text/plain": [
       "PassengerId      int64\n",
       "Survived         int64\n",
       "Pclass           int64\n",
       "Name            object\n",
       "Sex             object\n",
       "Age            float64\n",
       "SibSp            int64\n",
       "Parch            int64\n",
       "Ticket          object\n",
       "Fare           float64\n",
       "Cabin           object\n",
       "Embarked        object\n",
       "dtype: object"
      ]
     },
     "execution_count": 16,
     "metadata": {},
     "output_type": "execute_result"
    }
   ],
   "source": [
    "titanic.dtypes"
   ]
  },
  {
   "cell_type": "code",
   "execution_count": 17,
   "metadata": {},
   "outputs": [
    {
     "data": {
      "text/html": [
       "<div>\n",
       "<style scoped>\n",
       "    .dataframe tbody tr th:only-of-type {\n",
       "        vertical-align: middle;\n",
       "    }\n",
       "\n",
       "    .dataframe tbody tr th {\n",
       "        vertical-align: top;\n",
       "    }\n",
       "\n",
       "    .dataframe thead th {\n",
       "        text-align: right;\n",
       "    }\n",
       "</style>\n",
       "<table border=\"1\" class=\"dataframe\">\n",
       "  <thead>\n",
       "    <tr style=\"text-align: right;\">\n",
       "      <th></th>\n",
       "      <th>PassengerId</th>\n",
       "      <th>Survived</th>\n",
       "      <th>Pclass</th>\n",
       "      <th>Age</th>\n",
       "      <th>SibSp</th>\n",
       "      <th>Parch</th>\n",
       "      <th>Fare</th>\n",
       "    </tr>\n",
       "  </thead>\n",
       "  <tbody>\n",
       "    <tr>\n",
       "      <th>count</th>\n",
       "      <td>891.000000</td>\n",
       "      <td>891.000000</td>\n",
       "      <td>891.000000</td>\n",
       "      <td>714.000000</td>\n",
       "      <td>891.000000</td>\n",
       "      <td>891.000000</td>\n",
       "      <td>891.000000</td>\n",
       "    </tr>\n",
       "    <tr>\n",
       "      <th>mean</th>\n",
       "      <td>446.000000</td>\n",
       "      <td>0.383838</td>\n",
       "      <td>2.308642</td>\n",
       "      <td>29.699118</td>\n",
       "      <td>0.523008</td>\n",
       "      <td>0.381594</td>\n",
       "      <td>32.204208</td>\n",
       "    </tr>\n",
       "    <tr>\n",
       "      <th>std</th>\n",
       "      <td>257.353842</td>\n",
       "      <td>0.486592</td>\n",
       "      <td>0.836071</td>\n",
       "      <td>14.526497</td>\n",
       "      <td>1.102743</td>\n",
       "      <td>0.806057</td>\n",
       "      <td>49.693429</td>\n",
       "    </tr>\n",
       "    <tr>\n",
       "      <th>min</th>\n",
       "      <td>1.000000</td>\n",
       "      <td>0.000000</td>\n",
       "      <td>1.000000</td>\n",
       "      <td>0.420000</td>\n",
       "      <td>0.000000</td>\n",
       "      <td>0.000000</td>\n",
       "      <td>0.000000</td>\n",
       "    </tr>\n",
       "    <tr>\n",
       "      <th>25%</th>\n",
       "      <td>223.500000</td>\n",
       "      <td>0.000000</td>\n",
       "      <td>2.000000</td>\n",
       "      <td>20.125000</td>\n",
       "      <td>0.000000</td>\n",
       "      <td>0.000000</td>\n",
       "      <td>7.910400</td>\n",
       "    </tr>\n",
       "    <tr>\n",
       "      <th>50%</th>\n",
       "      <td>446.000000</td>\n",
       "      <td>0.000000</td>\n",
       "      <td>3.000000</td>\n",
       "      <td>28.000000</td>\n",
       "      <td>0.000000</td>\n",
       "      <td>0.000000</td>\n",
       "      <td>14.454200</td>\n",
       "    </tr>\n",
       "    <tr>\n",
       "      <th>75%</th>\n",
       "      <td>668.500000</td>\n",
       "      <td>1.000000</td>\n",
       "      <td>3.000000</td>\n",
       "      <td>38.000000</td>\n",
       "      <td>1.000000</td>\n",
       "      <td>0.000000</td>\n",
       "      <td>31.000000</td>\n",
       "    </tr>\n",
       "    <tr>\n",
       "      <th>max</th>\n",
       "      <td>891.000000</td>\n",
       "      <td>1.000000</td>\n",
       "      <td>3.000000</td>\n",
       "      <td>80.000000</td>\n",
       "      <td>8.000000</td>\n",
       "      <td>6.000000</td>\n",
       "      <td>512.329200</td>\n",
       "    </tr>\n",
       "  </tbody>\n",
       "</table>\n",
       "</div>"
      ],
      "text/plain": [
       "       PassengerId    Survived      Pclass         Age       SibSp  \\\n",
       "count   891.000000  891.000000  891.000000  714.000000  891.000000   \n",
       "mean    446.000000    0.383838    2.308642   29.699118    0.523008   \n",
       "std     257.353842    0.486592    0.836071   14.526497    1.102743   \n",
       "min       1.000000    0.000000    1.000000    0.420000    0.000000   \n",
       "25%     223.500000    0.000000    2.000000   20.125000    0.000000   \n",
       "50%     446.000000    0.000000    3.000000   28.000000    0.000000   \n",
       "75%     668.500000    1.000000    3.000000   38.000000    1.000000   \n",
       "max     891.000000    1.000000    3.000000   80.000000    8.000000   \n",
       "\n",
       "            Parch        Fare  \n",
       "count  891.000000  891.000000  \n",
       "mean     0.381594   32.204208  \n",
       "std      0.806057   49.693429  \n",
       "min      0.000000    0.000000  \n",
       "25%      0.000000    7.910400  \n",
       "50%      0.000000   14.454200  \n",
       "75%      0.000000   31.000000  \n",
       "max      6.000000  512.329200  "
      ]
     },
     "execution_count": 17,
     "metadata": {},
     "output_type": "execute_result"
    }
   ],
   "source": [
    "titanic.describe()"
   ]
  },
  {
   "cell_type": "code",
   "execution_count": 18,
   "metadata": {},
   "outputs": [
    {
     "data": {
      "text/html": [
       "<div>\n",
       "<style scoped>\n",
       "    .dataframe tbody tr th:only-of-type {\n",
       "        vertical-align: middle;\n",
       "    }\n",
       "\n",
       "    .dataframe tbody tr th {\n",
       "        vertical-align: top;\n",
       "    }\n",
       "\n",
       "    .dataframe thead th {\n",
       "        text-align: right;\n",
       "    }\n",
       "</style>\n",
       "<table border=\"1\" class=\"dataframe\">\n",
       "  <thead>\n",
       "    <tr style=\"text-align: right;\">\n",
       "      <th></th>\n",
       "      <th>Total_number</th>\n",
       "    </tr>\n",
       "    <tr>\n",
       "      <th>Sex</th>\n",
       "      <th></th>\n",
       "    </tr>\n",
       "  </thead>\n",
       "  <tbody>\n",
       "    <tr>\n",
       "      <th>male</th>\n",
       "      <td>577</td>\n",
       "    </tr>\n",
       "    <tr>\n",
       "      <th>female</th>\n",
       "      <td>314</td>\n",
       "    </tr>\n",
       "  </tbody>\n",
       "</table>\n",
       "</div>"
      ],
      "text/plain": [
       "        Total_number\n",
       "Sex                 \n",
       "male             577\n",
       "female           314"
      ]
     },
     "execution_count": 18,
     "metadata": {},
     "output_type": "execute_result"
    }
   ],
   "source": [
    "# total number of every species\n",
    "titanic.groupby('Sex')['Sex'].agg(['count']).rename(columns={'count':'Total_number'}).sort_values(by='Total_number', ascending=False)"
   ]
  },
  {
   "cell_type": "code",
   "execution_count": null,
   "metadata": {},
   "outputs": [],
   "source": []
  },
  {
   "cell_type": "markdown",
   "metadata": {},
   "source": [
    "### Dropping Unnecessary columns¶"
   ]
  },
  {
   "cell_type": "code",
   "execution_count": 19,
   "metadata": {},
   "outputs": [],
   "source": [
    "titanic.drop(['Name','Ticket','Cabin'], axis=1, inplace=True)"
   ]
  },
  {
   "cell_type": "code",
   "execution_count": 20,
   "metadata": {},
   "outputs": [
    {
     "data": {
      "text/html": [
       "<div>\n",
       "<style scoped>\n",
       "    .dataframe tbody tr th:only-of-type {\n",
       "        vertical-align: middle;\n",
       "    }\n",
       "\n",
       "    .dataframe tbody tr th {\n",
       "        vertical-align: top;\n",
       "    }\n",
       "\n",
       "    .dataframe thead th {\n",
       "        text-align: right;\n",
       "    }\n",
       "</style>\n",
       "<table border=\"1\" class=\"dataframe\">\n",
       "  <thead>\n",
       "    <tr style=\"text-align: right;\">\n",
       "      <th></th>\n",
       "      <th>PassengerId</th>\n",
       "      <th>Survived</th>\n",
       "      <th>Pclass</th>\n",
       "      <th>Sex</th>\n",
       "      <th>Age</th>\n",
       "      <th>SibSp</th>\n",
       "      <th>Parch</th>\n",
       "      <th>Fare</th>\n",
       "      <th>Embarked</th>\n",
       "    </tr>\n",
       "  </thead>\n",
       "  <tbody>\n",
       "    <tr>\n",
       "      <th>0</th>\n",
       "      <td>1</td>\n",
       "      <td>0</td>\n",
       "      <td>3</td>\n",
       "      <td>male</td>\n",
       "      <td>22.0</td>\n",
       "      <td>1</td>\n",
       "      <td>0</td>\n",
       "      <td>7.2500</td>\n",
       "      <td>S</td>\n",
       "    </tr>\n",
       "    <tr>\n",
       "      <th>1</th>\n",
       "      <td>2</td>\n",
       "      <td>1</td>\n",
       "      <td>1</td>\n",
       "      <td>female</td>\n",
       "      <td>38.0</td>\n",
       "      <td>1</td>\n",
       "      <td>0</td>\n",
       "      <td>71.2833</td>\n",
       "      <td>C</td>\n",
       "    </tr>\n",
       "    <tr>\n",
       "      <th>2</th>\n",
       "      <td>3</td>\n",
       "      <td>1</td>\n",
       "      <td>3</td>\n",
       "      <td>female</td>\n",
       "      <td>26.0</td>\n",
       "      <td>0</td>\n",
       "      <td>0</td>\n",
       "      <td>7.9250</td>\n",
       "      <td>S</td>\n",
       "    </tr>\n",
       "    <tr>\n",
       "      <th>3</th>\n",
       "      <td>4</td>\n",
       "      <td>1</td>\n",
       "      <td>1</td>\n",
       "      <td>female</td>\n",
       "      <td>35.0</td>\n",
       "      <td>1</td>\n",
       "      <td>0</td>\n",
       "      <td>53.1000</td>\n",
       "      <td>S</td>\n",
       "    </tr>\n",
       "    <tr>\n",
       "      <th>4</th>\n",
       "      <td>5</td>\n",
       "      <td>0</td>\n",
       "      <td>3</td>\n",
       "      <td>male</td>\n",
       "      <td>35.0</td>\n",
       "      <td>0</td>\n",
       "      <td>0</td>\n",
       "      <td>8.0500</td>\n",
       "      <td>S</td>\n",
       "    </tr>\n",
       "  </tbody>\n",
       "</table>\n",
       "</div>"
      ],
      "text/plain": [
       "   PassengerId  Survived  Pclass     Sex   Age  SibSp  Parch     Fare Embarked\n",
       "0            1         0       3    male  22.0      1      0   7.2500        S\n",
       "1            2         1       1  female  38.0      1      0  71.2833        C\n",
       "2            3         1       3  female  26.0      0      0   7.9250        S\n",
       "3            4         1       1  female  35.0      1      0  53.1000        S\n",
       "4            5         0       3    male  35.0      0      0   8.0500        S"
      ]
     },
     "execution_count": 20,
     "metadata": {},
     "output_type": "execute_result"
    }
   ],
   "source": [
    "titanic.head()"
   ]
  },
  {
   "cell_type": "code",
   "execution_count": null,
   "metadata": {},
   "outputs": [],
   "source": []
  },
  {
   "cell_type": "markdown",
   "metadata": {},
   "source": [
    "### Dropping nan data"
   ]
  },
  {
   "cell_type": "code",
   "execution_count": 21,
   "metadata": {},
   "outputs": [],
   "source": [
    "titanic.fillna('ffill', inplace=True)"
   ]
  },
  {
   "cell_type": "code",
   "execution_count": null,
   "metadata": {},
   "outputs": [],
   "source": []
  },
  {
   "cell_type": "markdown",
   "metadata": {},
   "source": [
    "### Encoding"
   ]
  },
  {
   "cell_type": "code",
   "execution_count": 22,
   "metadata": {},
   "outputs": [],
   "source": [
    "titanic = pd.get_dummies(titanic)"
   ]
  },
  {
   "cell_type": "code",
   "execution_count": 23,
   "metadata": {},
   "outputs": [
    {
     "data": {
      "text/html": [
       "<div>\n",
       "<style scoped>\n",
       "    .dataframe tbody tr th:only-of-type {\n",
       "        vertical-align: middle;\n",
       "    }\n",
       "\n",
       "    .dataframe tbody tr th {\n",
       "        vertical-align: top;\n",
       "    }\n",
       "\n",
       "    .dataframe thead th {\n",
       "        text-align: right;\n",
       "    }\n",
       "</style>\n",
       "<table border=\"1\" class=\"dataframe\">\n",
       "  <thead>\n",
       "    <tr style=\"text-align: right;\">\n",
       "      <th></th>\n",
       "      <th>PassengerId</th>\n",
       "      <th>Survived</th>\n",
       "      <th>Pclass</th>\n",
       "      <th>SibSp</th>\n",
       "      <th>Parch</th>\n",
       "      <th>Fare</th>\n",
       "      <th>Sex_female</th>\n",
       "      <th>Sex_male</th>\n",
       "      <th>Age_0.42</th>\n",
       "      <th>Age_0.67</th>\n",
       "      <th>...</th>\n",
       "      <th>Age_70.0</th>\n",
       "      <th>Age_70.5</th>\n",
       "      <th>Age_71.0</th>\n",
       "      <th>Age_74.0</th>\n",
       "      <th>Age_80.0</th>\n",
       "      <th>Age_ffill</th>\n",
       "      <th>Embarked_C</th>\n",
       "      <th>Embarked_Q</th>\n",
       "      <th>Embarked_S</th>\n",
       "      <th>Embarked_ffill</th>\n",
       "    </tr>\n",
       "  </thead>\n",
       "  <tbody>\n",
       "    <tr>\n",
       "      <th>0</th>\n",
       "      <td>1</td>\n",
       "      <td>0</td>\n",
       "      <td>3</td>\n",
       "      <td>1</td>\n",
       "      <td>0</td>\n",
       "      <td>7.2500</td>\n",
       "      <td>0</td>\n",
       "      <td>1</td>\n",
       "      <td>0</td>\n",
       "      <td>0</td>\n",
       "      <td>...</td>\n",
       "      <td>0</td>\n",
       "      <td>0</td>\n",
       "      <td>0</td>\n",
       "      <td>0</td>\n",
       "      <td>0</td>\n",
       "      <td>0</td>\n",
       "      <td>0</td>\n",
       "      <td>0</td>\n",
       "      <td>1</td>\n",
       "      <td>0</td>\n",
       "    </tr>\n",
       "    <tr>\n",
       "      <th>1</th>\n",
       "      <td>2</td>\n",
       "      <td>1</td>\n",
       "      <td>1</td>\n",
       "      <td>1</td>\n",
       "      <td>0</td>\n",
       "      <td>71.2833</td>\n",
       "      <td>1</td>\n",
       "      <td>0</td>\n",
       "      <td>0</td>\n",
       "      <td>0</td>\n",
       "      <td>...</td>\n",
       "      <td>0</td>\n",
       "      <td>0</td>\n",
       "      <td>0</td>\n",
       "      <td>0</td>\n",
       "      <td>0</td>\n",
       "      <td>0</td>\n",
       "      <td>1</td>\n",
       "      <td>0</td>\n",
       "      <td>0</td>\n",
       "      <td>0</td>\n",
       "    </tr>\n",
       "    <tr>\n",
       "      <th>2</th>\n",
       "      <td>3</td>\n",
       "      <td>1</td>\n",
       "      <td>3</td>\n",
       "      <td>0</td>\n",
       "      <td>0</td>\n",
       "      <td>7.9250</td>\n",
       "      <td>1</td>\n",
       "      <td>0</td>\n",
       "      <td>0</td>\n",
       "      <td>0</td>\n",
       "      <td>...</td>\n",
       "      <td>0</td>\n",
       "      <td>0</td>\n",
       "      <td>0</td>\n",
       "      <td>0</td>\n",
       "      <td>0</td>\n",
       "      <td>0</td>\n",
       "      <td>0</td>\n",
       "      <td>0</td>\n",
       "      <td>1</td>\n",
       "      <td>0</td>\n",
       "    </tr>\n",
       "    <tr>\n",
       "      <th>3</th>\n",
       "      <td>4</td>\n",
       "      <td>1</td>\n",
       "      <td>1</td>\n",
       "      <td>1</td>\n",
       "      <td>0</td>\n",
       "      <td>53.1000</td>\n",
       "      <td>1</td>\n",
       "      <td>0</td>\n",
       "      <td>0</td>\n",
       "      <td>0</td>\n",
       "      <td>...</td>\n",
       "      <td>0</td>\n",
       "      <td>0</td>\n",
       "      <td>0</td>\n",
       "      <td>0</td>\n",
       "      <td>0</td>\n",
       "      <td>0</td>\n",
       "      <td>0</td>\n",
       "      <td>0</td>\n",
       "      <td>1</td>\n",
       "      <td>0</td>\n",
       "    </tr>\n",
       "    <tr>\n",
       "      <th>4</th>\n",
       "      <td>5</td>\n",
       "      <td>0</td>\n",
       "      <td>3</td>\n",
       "      <td>0</td>\n",
       "      <td>0</td>\n",
       "      <td>8.0500</td>\n",
       "      <td>0</td>\n",
       "      <td>1</td>\n",
       "      <td>0</td>\n",
       "      <td>0</td>\n",
       "      <td>...</td>\n",
       "      <td>0</td>\n",
       "      <td>0</td>\n",
       "      <td>0</td>\n",
       "      <td>0</td>\n",
       "      <td>0</td>\n",
       "      <td>0</td>\n",
       "      <td>0</td>\n",
       "      <td>0</td>\n",
       "      <td>1</td>\n",
       "      <td>0</td>\n",
       "    </tr>\n",
       "  </tbody>\n",
       "</table>\n",
       "<p>5 rows × 101 columns</p>\n",
       "</div>"
      ],
      "text/plain": [
       "   PassengerId  Survived  Pclass  SibSp  Parch     Fare  Sex_female  Sex_male  \\\n",
       "0            1         0       3      1      0   7.2500           0         1   \n",
       "1            2         1       1      1      0  71.2833           1         0   \n",
       "2            3         1       3      0      0   7.9250           1         0   \n",
       "3            4         1       1      1      0  53.1000           1         0   \n",
       "4            5         0       3      0      0   8.0500           0         1   \n",
       "\n",
       "   Age_0.42  Age_0.67  ...  Age_70.0  Age_70.5  Age_71.0  Age_74.0  Age_80.0  \\\n",
       "0         0         0  ...         0         0         0         0         0   \n",
       "1         0         0  ...         0         0         0         0         0   \n",
       "2         0         0  ...         0         0         0         0         0   \n",
       "3         0         0  ...         0         0         0         0         0   \n",
       "4         0         0  ...         0         0         0         0         0   \n",
       "\n",
       "   Age_ffill  Embarked_C  Embarked_Q  Embarked_S  Embarked_ffill  \n",
       "0          0           0           0           1               0  \n",
       "1          0           1           0           0               0  \n",
       "2          0           0           0           1               0  \n",
       "3          0           0           0           1               0  \n",
       "4          0           0           0           1               0  \n",
       "\n",
       "[5 rows x 101 columns]"
      ]
     },
     "execution_count": 23,
     "metadata": {},
     "output_type": "execute_result"
    }
   ],
   "source": [
    "titanic.head()"
   ]
  },
  {
   "cell_type": "code",
   "execution_count": null,
   "metadata": {},
   "outputs": [],
   "source": []
  },
  {
   "cell_type": "markdown",
   "metadata": {},
   "source": [
    "### Feature and Label data"
   ]
  },
  {
   "cell_type": "code",
   "execution_count": 24,
   "metadata": {},
   "outputs": [],
   "source": [
    "X = titanic.drop('Survived', axis=1)\n",
    "y = titanic['Survived']"
   ]
  },
  {
   "cell_type": "code",
   "execution_count": null,
   "metadata": {},
   "outputs": [],
   "source": []
  },
  {
   "cell_type": "markdown",
   "metadata": {},
   "source": [
    "### Dividing dataset"
   ]
  },
  {
   "cell_type": "code",
   "execution_count": 25,
   "metadata": {},
   "outputs": [],
   "source": [
    "seed = 7\n",
    "test_size = 0.33\n",
    "Xtrain, xtest, Ytrain, ytest = train_test_split(X, y, test_size=test_size,random_state=seed)"
   ]
  },
  {
   "cell_type": "code",
   "execution_count": null,
   "metadata": {},
   "outputs": [],
   "source": []
  },
  {
   "cell_type": "markdown",
   "metadata": {},
   "source": [
    "### Monitoring Training Performance With XGBoost"
   ]
  },
  {
   "cell_type": "code",
   "execution_count": 26,
   "metadata": {},
   "outputs": [
    {
     "name": "stdout",
     "output_type": "stream",
     "text": [
      "[0]\tvalidation_0-error:0.24407\n",
      "[1]\tvalidation_0-error:0.24407\n",
      "[2]\tvalidation_0-error:0.22373\n",
      "[3]\tvalidation_0-error:0.22373\n",
      "[4]\tvalidation_0-error:0.22373\n",
      "[5]\tvalidation_0-error:0.22712\n",
      "[6]\tvalidation_0-error:0.22712\n",
      "[7]\tvalidation_0-error:0.22373\n",
      "[8]\tvalidation_0-error:0.22034\n",
      "[9]\tvalidation_0-error:0.22034\n",
      "[10]\tvalidation_0-error:0.22373\n",
      "[11]\tvalidation_0-error:0.21695\n",
      "[12]\tvalidation_0-error:0.22034\n",
      "[13]\tvalidation_0-error:0.21695\n",
      "[14]\tvalidation_0-error:0.20678\n",
      "[15]\tvalidation_0-error:0.21356\n",
      "[16]\tvalidation_0-error:0.21356\n",
      "[17]\tvalidation_0-error:0.21017\n",
      "[18]\tvalidation_0-error:0.21017\n",
      "[19]\tvalidation_0-error:0.21695\n",
      "[20]\tvalidation_0-error:0.22034\n",
      "[21]\tvalidation_0-error:0.22034\n",
      "[22]\tvalidation_0-error:0.22034\n",
      "[23]\tvalidation_0-error:0.21695\n",
      "[24]\tvalidation_0-error:0.21695\n",
      "[25]\tvalidation_0-error:0.21695\n",
      "[26]\tvalidation_0-error:0.22034\n",
      "[27]\tvalidation_0-error:0.22034\n",
      "[28]\tvalidation_0-error:0.22712\n",
      "[29]\tvalidation_0-error:0.23390\n",
      "[30]\tvalidation_0-error:0.23051\n",
      "[31]\tvalidation_0-error:0.22712\n",
      "[32]\tvalidation_0-error:0.22712\n",
      "[33]\tvalidation_0-error:0.23051\n",
      "[34]\tvalidation_0-error:0.22373\n",
      "[35]\tvalidation_0-error:0.23390\n",
      "[36]\tvalidation_0-error:0.23390\n",
      "[37]\tvalidation_0-error:0.23390\n",
      "[38]\tvalidation_0-error:0.23729\n",
      "[39]\tvalidation_0-error:0.23729\n",
      "[40]\tvalidation_0-error:0.23729\n",
      "[41]\tvalidation_0-error:0.24068\n",
      "[42]\tvalidation_0-error:0.24068\n",
      "[43]\tvalidation_0-error:0.24068\n",
      "[44]\tvalidation_0-error:0.24407\n",
      "[45]\tvalidation_0-error:0.24068\n",
      "[46]\tvalidation_0-error:0.24407\n",
      "[47]\tvalidation_0-error:0.23729\n",
      "[48]\tvalidation_0-error:0.24407\n",
      "[49]\tvalidation_0-error:0.24068\n",
      "[50]\tvalidation_0-error:0.24407\n",
      "[51]\tvalidation_0-error:0.24407\n",
      "[52]\tvalidation_0-error:0.24068\n",
      "[53]\tvalidation_0-error:0.24068\n",
      "[54]\tvalidation_0-error:0.23729\n",
      "[55]\tvalidation_0-error:0.23390\n",
      "[56]\tvalidation_0-error:0.23390\n",
      "[57]\tvalidation_0-error:0.24407\n",
      "[58]\tvalidation_0-error:0.24407\n",
      "[59]\tvalidation_0-error:0.24407\n",
      "[60]\tvalidation_0-error:0.24407\n",
      "[61]\tvalidation_0-error:0.24407\n",
      "[62]\tvalidation_0-error:0.24746\n",
      "[63]\tvalidation_0-error:0.24746\n",
      "[64]\tvalidation_0-error:0.25085\n",
      "[65]\tvalidation_0-error:0.25085\n",
      "[66]\tvalidation_0-error:0.24407\n",
      "[67]\tvalidation_0-error:0.24068\n",
      "[68]\tvalidation_0-error:0.24407\n",
      "[69]\tvalidation_0-error:0.24068\n",
      "[70]\tvalidation_0-error:0.23729\n",
      "[71]\tvalidation_0-error:0.23729\n",
      "[72]\tvalidation_0-error:0.23729\n",
      "[73]\tvalidation_0-error:0.24068\n",
      "[74]\tvalidation_0-error:0.24407\n",
      "[75]\tvalidation_0-error:0.24068\n",
      "[76]\tvalidation_0-error:0.23729\n",
      "[77]\tvalidation_0-error:0.24068\n",
      "[78]\tvalidation_0-error:0.24746\n",
      "[79]\tvalidation_0-error:0.24746\n",
      "[80]\tvalidation_0-error:0.24407\n",
      "[81]\tvalidation_0-error:0.23729\n",
      "[82]\tvalidation_0-error:0.23729\n",
      "[83]\tvalidation_0-error:0.23729\n",
      "[84]\tvalidation_0-error:0.23729\n",
      "[85]\tvalidation_0-error:0.23729\n",
      "[86]\tvalidation_0-error:0.23729\n",
      "[87]\tvalidation_0-error:0.24407\n",
      "[88]\tvalidation_0-error:0.24068\n",
      "[89]\tvalidation_0-error:0.24407\n",
      "[90]\tvalidation_0-error:0.24407\n",
      "[91]\tvalidation_0-error:0.24407\n",
      "[92]\tvalidation_0-error:0.24746\n",
      "[93]\tvalidation_0-error:0.24407\n",
      "[94]\tvalidation_0-error:0.24407\n",
      "[95]\tvalidation_0-error:0.24407\n",
      "[96]\tvalidation_0-error:0.24746\n",
      "[97]\tvalidation_0-error:0.24746\n",
      "[98]\tvalidation_0-error:0.24746\n",
      "[99]\tvalidation_0-error:0.24407\n"
     ]
    },
    {
     "data": {
      "text/plain": [
       "XGBClassifier(base_score=0.5, booster='gbtree', colsample_bylevel=1,\n",
       "              colsample_bynode=1, colsample_bytree=1, gamma=0, gpu_id=-1,\n",
       "              importance_type='gain', interaction_constraints='',\n",
       "              learning_rate=0.300000012, max_delta_step=0, max_depth=6,\n",
       "              min_child_weight=1, missing=nan, monotone_constraints='()',\n",
       "              n_estimators=100, n_jobs=0, num_parallel_tree=1,\n",
       "              objective='binary:logistic', random_state=0, reg_alpha=0,\n",
       "              reg_lambda=1, scale_pos_weight=1, subsample=1,\n",
       "              tree_method='exact', validate_parameters=1, verbosity=None)"
      ]
     },
     "execution_count": 26,
     "metadata": {},
     "output_type": "execute_result"
    }
   ],
   "source": [
    "#model\n",
    "model = XGBClassifier()\n",
    "eval_set = [(xtest, ytest)]\n",
    "model.fit(Xtrain, Ytrain, eval_metric=\"error\", eval_set=eval_set, verbose=True)"
   ]
  },
  {
   "cell_type": "code",
   "execution_count": 28,
   "metadata": {},
   "outputs": [],
   "source": [
    "#predict\n",
    "predictions = model.predict(xtest)"
   ]
  },
  {
   "cell_type": "code",
   "execution_count": 29,
   "metadata": {},
   "outputs": [
    {
     "name": "stdout",
     "output_type": "stream",
     "text": [
      "Accuracy: 75.59%\n"
     ]
    }
   ],
   "source": [
    "accuracy = accuracy_score(ytest, predictions)\n",
    "print(\"Accuracy: %.2f%%\" % (accuracy * 100.0))"
   ]
  },
  {
   "cell_type": "code",
   "execution_count": null,
   "metadata": {},
   "outputs": [],
   "source": []
  },
  {
   "cell_type": "markdown",
   "metadata": {},
   "source": [
    "### Evaluate XGBoost Models With Learning Curves"
   ]
  },
  {
   "cell_type": "code",
   "execution_count": 31,
   "metadata": {},
   "outputs": [
    {
     "name": "stdout",
     "output_type": "stream",
     "text": [
      "[0]\tvalidation_0-error:0.13926\tvalidation_0-logloss:0.55375\tvalidation_1-error:0.24407\tvalidation_1-logloss:0.58932\n",
      "[1]\tvalidation_0-error:0.12920\tvalidation_0-logloss:0.47234\tvalidation_1-error:0.24407\tvalidation_1-logloss:0.54358\n",
      "[2]\tvalidation_0-error:0.13423\tvalidation_0-logloss:0.42026\tvalidation_1-error:0.22373\tvalidation_1-logloss:0.51273\n",
      "[3]\tvalidation_0-error:0.12584\tvalidation_0-logloss:0.38214\tvalidation_1-error:0.22373\tvalidation_1-logloss:0.50246\n",
      "[4]\tvalidation_0-error:0.11409\tvalidation_0-logloss:0.35112\tvalidation_1-error:0.22373\tvalidation_1-logloss:0.49620\n",
      "[5]\tvalidation_0-error:0.11074\tvalidation_0-logloss:0.32718\tvalidation_1-error:0.22712\tvalidation_1-logloss:0.49266\n",
      "[6]\tvalidation_0-error:0.10570\tvalidation_0-logloss:0.31034\tvalidation_1-error:0.22712\tvalidation_1-logloss:0.49905\n",
      "[7]\tvalidation_0-error:0.10906\tvalidation_0-logloss:0.29784\tvalidation_1-error:0.22373\tvalidation_1-logloss:0.49828\n",
      "[8]\tvalidation_0-error:0.10906\tvalidation_0-logloss:0.28564\tvalidation_1-error:0.22034\tvalidation_1-logloss:0.50431\n",
      "[9]\tvalidation_0-error:0.10570\tvalidation_0-logloss:0.27648\tvalidation_1-error:0.22034\tvalidation_1-logloss:0.51351\n",
      "[10]\tvalidation_0-error:0.10235\tvalidation_0-logloss:0.26302\tvalidation_1-error:0.22373\tvalidation_1-logloss:0.52460\n",
      "[11]\tvalidation_0-error:0.09731\tvalidation_0-logloss:0.25708\tvalidation_1-error:0.21695\tvalidation_1-logloss:0.52907\n",
      "[12]\tvalidation_0-error:0.09564\tvalidation_0-logloss:0.25413\tvalidation_1-error:0.22034\tvalidation_1-logloss:0.53342\n",
      "[13]\tvalidation_0-error:0.09731\tvalidation_0-logloss:0.25198\tvalidation_1-error:0.21695\tvalidation_1-logloss:0.53669\n",
      "[14]\tvalidation_0-error:0.09564\tvalidation_0-logloss:0.24438\tvalidation_1-error:0.20678\tvalidation_1-logloss:0.53630\n",
      "[15]\tvalidation_0-error:0.08557\tvalidation_0-logloss:0.23706\tvalidation_1-error:0.21356\tvalidation_1-logloss:0.53448\n",
      "[16]\tvalidation_0-error:0.07886\tvalidation_0-logloss:0.22968\tvalidation_1-error:0.21356\tvalidation_1-logloss:0.53602\n",
      "[17]\tvalidation_0-error:0.07718\tvalidation_0-logloss:0.22393\tvalidation_1-error:0.21017\tvalidation_1-logloss:0.53739\n",
      "[18]\tvalidation_0-error:0.07550\tvalidation_0-logloss:0.21603\tvalidation_1-error:0.21017\tvalidation_1-logloss:0.54016\n",
      "[19]\tvalidation_0-error:0.07718\tvalidation_0-logloss:0.21119\tvalidation_1-error:0.21695\tvalidation_1-logloss:0.54627\n",
      "[20]\tvalidation_0-error:0.07550\tvalidation_0-logloss:0.20959\tvalidation_1-error:0.22034\tvalidation_1-logloss:0.54476\n",
      "[21]\tvalidation_0-error:0.07550\tvalidation_0-logloss:0.20590\tvalidation_1-error:0.22034\tvalidation_1-logloss:0.54816\n",
      "[22]\tvalidation_0-error:0.07215\tvalidation_0-logloss:0.20244\tvalidation_1-error:0.22034\tvalidation_1-logloss:0.55239\n",
      "[23]\tvalidation_0-error:0.07047\tvalidation_0-logloss:0.19784\tvalidation_1-error:0.21695\tvalidation_1-logloss:0.55187\n",
      "[24]\tvalidation_0-error:0.06711\tvalidation_0-logloss:0.19428\tvalidation_1-error:0.21695\tvalidation_1-logloss:0.55233\n",
      "[25]\tvalidation_0-error:0.06711\tvalidation_0-logloss:0.19128\tvalidation_1-error:0.21695\tvalidation_1-logloss:0.55338\n",
      "[26]\tvalidation_0-error:0.06208\tvalidation_0-logloss:0.18532\tvalidation_1-error:0.22034\tvalidation_1-logloss:0.55740\n",
      "[27]\tvalidation_0-error:0.05872\tvalidation_0-logloss:0.18054\tvalidation_1-error:0.22034\tvalidation_1-logloss:0.56404\n",
      "[28]\tvalidation_0-error:0.05705\tvalidation_0-logloss:0.17687\tvalidation_1-error:0.22712\tvalidation_1-logloss:0.56813\n",
      "[29]\tvalidation_0-error:0.04866\tvalidation_0-logloss:0.17207\tvalidation_1-error:0.23390\tvalidation_1-logloss:0.57321\n",
      "[30]\tvalidation_0-error:0.05034\tvalidation_0-logloss:0.16956\tvalidation_1-error:0.23051\tvalidation_1-logloss:0.57512\n",
      "[31]\tvalidation_0-error:0.04530\tvalidation_0-logloss:0.16653\tvalidation_1-error:0.22712\tvalidation_1-logloss:0.57644\n",
      "[32]\tvalidation_0-error:0.04530\tvalidation_0-logloss:0.16408\tvalidation_1-error:0.22712\tvalidation_1-logloss:0.57865\n",
      "[33]\tvalidation_0-error:0.04362\tvalidation_0-logloss:0.16001\tvalidation_1-error:0.23051\tvalidation_1-logloss:0.57486\n",
      "[34]\tvalidation_0-error:0.03524\tvalidation_0-logloss:0.15619\tvalidation_1-error:0.22373\tvalidation_1-logloss:0.57284\n",
      "[35]\tvalidation_0-error:0.03356\tvalidation_0-logloss:0.15240\tvalidation_1-error:0.23390\tvalidation_1-logloss:0.57340\n",
      "[36]\tvalidation_0-error:0.03524\tvalidation_0-logloss:0.14855\tvalidation_1-error:0.23390\tvalidation_1-logloss:0.58139\n",
      "[37]\tvalidation_0-error:0.02685\tvalidation_0-logloss:0.14558\tvalidation_1-error:0.23390\tvalidation_1-logloss:0.58494\n",
      "[38]\tvalidation_0-error:0.02685\tvalidation_0-logloss:0.14303\tvalidation_1-error:0.23729\tvalidation_1-logloss:0.58730\n",
      "[39]\tvalidation_0-error:0.02852\tvalidation_0-logloss:0.14126\tvalidation_1-error:0.23729\tvalidation_1-logloss:0.58803\n",
      "[40]\tvalidation_0-error:0.02685\tvalidation_0-logloss:0.13909\tvalidation_1-error:0.23729\tvalidation_1-logloss:0.59072\n",
      "[41]\tvalidation_0-error:0.02517\tvalidation_0-logloss:0.13620\tvalidation_1-error:0.24068\tvalidation_1-logloss:0.59747\n",
      "[42]\tvalidation_0-error:0.02349\tvalidation_0-logloss:0.13420\tvalidation_1-error:0.24068\tvalidation_1-logloss:0.59976\n",
      "[43]\tvalidation_0-error:0.02517\tvalidation_0-logloss:0.13152\tvalidation_1-error:0.24068\tvalidation_1-logloss:0.60599\n",
      "[44]\tvalidation_0-error:0.02349\tvalidation_0-logloss:0.12945\tvalidation_1-error:0.24407\tvalidation_1-logloss:0.60976\n",
      "[45]\tvalidation_0-error:0.01846\tvalidation_0-logloss:0.12620\tvalidation_1-error:0.24068\tvalidation_1-logloss:0.61431\n",
      "[46]\tvalidation_0-error:0.01510\tvalidation_0-logloss:0.12480\tvalidation_1-error:0.24407\tvalidation_1-logloss:0.62100\n",
      "[47]\tvalidation_0-error:0.01342\tvalidation_0-logloss:0.12256\tvalidation_1-error:0.23729\tvalidation_1-logloss:0.62502\n",
      "[48]\tvalidation_0-error:0.01510\tvalidation_0-logloss:0.12058\tvalidation_1-error:0.24407\tvalidation_1-logloss:0.62933\n",
      "[49]\tvalidation_0-error:0.01342\tvalidation_0-logloss:0.11828\tvalidation_1-error:0.24068\tvalidation_1-logloss:0.63200\n",
      "[50]\tvalidation_0-error:0.01342\tvalidation_0-logloss:0.11559\tvalidation_1-error:0.24407\tvalidation_1-logloss:0.63457\n",
      "[51]\tvalidation_0-error:0.01007\tvalidation_0-logloss:0.11419\tvalidation_1-error:0.24407\tvalidation_1-logloss:0.63502\n",
      "[52]\tvalidation_0-error:0.00839\tvalidation_0-logloss:0.11229\tvalidation_1-error:0.24068\tvalidation_1-logloss:0.63693\n",
      "[53]\tvalidation_0-error:0.00839\tvalidation_0-logloss:0.11108\tvalidation_1-error:0.24068\tvalidation_1-logloss:0.63978\n",
      "[54]\tvalidation_0-error:0.01007\tvalidation_0-logloss:0.10905\tvalidation_1-error:0.23729\tvalidation_1-logloss:0.64426\n",
      "[55]\tvalidation_0-error:0.01007\tvalidation_0-logloss:0.10781\tvalidation_1-error:0.23390\tvalidation_1-logloss:0.64577\n",
      "[56]\tvalidation_0-error:0.01175\tvalidation_0-logloss:0.10667\tvalidation_1-error:0.23390\tvalidation_1-logloss:0.64424\n",
      "[57]\tvalidation_0-error:0.01175\tvalidation_0-logloss:0.10561\tvalidation_1-error:0.24407\tvalidation_1-logloss:0.64654\n",
      "[58]\tvalidation_0-error:0.01175\tvalidation_0-logloss:0.10436\tvalidation_1-error:0.24407\tvalidation_1-logloss:0.64662\n",
      "[59]\tvalidation_0-error:0.01175\tvalidation_0-logloss:0.10327\tvalidation_1-error:0.24407\tvalidation_1-logloss:0.64450\n",
      "[60]\tvalidation_0-error:0.01007\tvalidation_0-logloss:0.10253\tvalidation_1-error:0.24407\tvalidation_1-logloss:0.64564\n",
      "[61]\tvalidation_0-error:0.01007\tvalidation_0-logloss:0.10142\tvalidation_1-error:0.24407\tvalidation_1-logloss:0.64742\n",
      "[62]\tvalidation_0-error:0.01007\tvalidation_0-logloss:0.09950\tvalidation_1-error:0.24746\tvalidation_1-logloss:0.64886\n",
      "[63]\tvalidation_0-error:0.01007\tvalidation_0-logloss:0.09879\tvalidation_1-error:0.24746\tvalidation_1-logloss:0.65071\n",
      "[64]\tvalidation_0-error:0.01175\tvalidation_0-logloss:0.09751\tvalidation_1-error:0.25085\tvalidation_1-logloss:0.65235\n",
      "[65]\tvalidation_0-error:0.01007\tvalidation_0-logloss:0.09662\tvalidation_1-error:0.25085\tvalidation_1-logloss:0.65415\n",
      "[66]\tvalidation_0-error:0.01007\tvalidation_0-logloss:0.09448\tvalidation_1-error:0.24407\tvalidation_1-logloss:0.65871\n",
      "[67]\tvalidation_0-error:0.00839\tvalidation_0-logloss:0.09377\tvalidation_1-error:0.24068\tvalidation_1-logloss:0.65997\n",
      "[68]\tvalidation_0-error:0.01007\tvalidation_0-logloss:0.09266\tvalidation_1-error:0.24407\tvalidation_1-logloss:0.66200\n",
      "[69]\tvalidation_0-error:0.00839\tvalidation_0-logloss:0.09199\tvalidation_1-error:0.24068\tvalidation_1-logloss:0.66293\n",
      "[70]\tvalidation_0-error:0.00839\tvalidation_0-logloss:0.09083\tvalidation_1-error:0.23729\tvalidation_1-logloss:0.66806\n",
      "[71]\tvalidation_0-error:0.00839\tvalidation_0-logloss:0.08893\tvalidation_1-error:0.23729\tvalidation_1-logloss:0.67241\n",
      "[72]\tvalidation_0-error:0.00839\tvalidation_0-logloss:0.08821\tvalidation_1-error:0.23729\tvalidation_1-logloss:0.67436\n",
      "[73]\tvalidation_0-error:0.00839\tvalidation_0-logloss:0.08673\tvalidation_1-error:0.24068\tvalidation_1-logloss:0.67842\n",
      "[74]\tvalidation_0-error:0.00839\tvalidation_0-logloss:0.08564\tvalidation_1-error:0.24407\tvalidation_1-logloss:0.68180\n",
      "[75]\tvalidation_0-error:0.00839\tvalidation_0-logloss:0.08464\tvalidation_1-error:0.24068\tvalidation_1-logloss:0.68689\n",
      "[76]\tvalidation_0-error:0.00839\tvalidation_0-logloss:0.08361\tvalidation_1-error:0.23729\tvalidation_1-logloss:0.68814\n",
      "[77]\tvalidation_0-error:0.00839\tvalidation_0-logloss:0.08291\tvalidation_1-error:0.24068\tvalidation_1-logloss:0.68868\n",
      "[78]\tvalidation_0-error:0.00503\tvalidation_0-logloss:0.08137\tvalidation_1-error:0.24746\tvalidation_1-logloss:0.69035\n",
      "[79]\tvalidation_0-error:0.00503\tvalidation_0-logloss:0.08101\tvalidation_1-error:0.24746\tvalidation_1-logloss:0.69154\n",
      "[80]\tvalidation_0-error:0.00503\tvalidation_0-logloss:0.07984\tvalidation_1-error:0.24407\tvalidation_1-logloss:0.69276\n",
      "[81]\tvalidation_0-error:0.00503\tvalidation_0-logloss:0.07841\tvalidation_1-error:0.23729\tvalidation_1-logloss:0.69540\n",
      "[82]\tvalidation_0-error:0.00503\tvalidation_0-logloss:0.07745\tvalidation_1-error:0.23729\tvalidation_1-logloss:0.69745\n",
      "[83]\tvalidation_0-error:0.00503\tvalidation_0-logloss:0.07674\tvalidation_1-error:0.23729\tvalidation_1-logloss:0.69813\n",
      "[84]\tvalidation_0-error:0.00503\tvalidation_0-logloss:0.07641\tvalidation_1-error:0.23729\tvalidation_1-logloss:0.69846\n",
      "[85]\tvalidation_0-error:0.00503\tvalidation_0-logloss:0.07555\tvalidation_1-error:0.23729\tvalidation_1-logloss:0.70340\n",
      "[86]\tvalidation_0-error:0.00503\tvalidation_0-logloss:0.07502\tvalidation_1-error:0.23729\tvalidation_1-logloss:0.70566\n",
      "[87]\tvalidation_0-error:0.00503\tvalidation_0-logloss:0.07357\tvalidation_1-error:0.24407\tvalidation_1-logloss:0.71013\n",
      "[88]\tvalidation_0-error:0.00503\tvalidation_0-logloss:0.07255\tvalidation_1-error:0.24068\tvalidation_1-logloss:0.71220\n",
      "[89]\tvalidation_0-error:0.00503\tvalidation_0-logloss:0.07173\tvalidation_1-error:0.24407\tvalidation_1-logloss:0.71383\n",
      "[90]\tvalidation_0-error:0.00336\tvalidation_0-logloss:0.07097\tvalidation_1-error:0.24407\tvalidation_1-logloss:0.71694\n",
      "[91]\tvalidation_0-error:0.00336\tvalidation_0-logloss:0.07057\tvalidation_1-error:0.24407\tvalidation_1-logloss:0.71777\n",
      "[92]\tvalidation_0-error:0.00168\tvalidation_0-logloss:0.06994\tvalidation_1-error:0.24746\tvalidation_1-logloss:0.71892\n",
      "[93]\tvalidation_0-error:0.00336\tvalidation_0-logloss:0.06904\tvalidation_1-error:0.24407\tvalidation_1-logloss:0.72407\n",
      "[94]\tvalidation_0-error:0.00336\tvalidation_0-logloss:0.06861\tvalidation_1-error:0.24407\tvalidation_1-logloss:0.72378\n",
      "[95]\tvalidation_0-error:0.00336\tvalidation_0-logloss:0.06806\tvalidation_1-error:0.24407\tvalidation_1-logloss:0.72481\n",
      "[96]\tvalidation_0-error:0.00168\tvalidation_0-logloss:0.06757\tvalidation_1-error:0.24746\tvalidation_1-logloss:0.72681\n",
      "[97]\tvalidation_0-error:0.00168\tvalidation_0-logloss:0.06703\tvalidation_1-error:0.24746\tvalidation_1-logloss:0.72791\n",
      "[98]\tvalidation_0-error:0.00168\tvalidation_0-logloss:0.06641\tvalidation_1-error:0.24746\tvalidation_1-logloss:0.72825\n",
      "[99]\tvalidation_0-error:0.00168\tvalidation_0-logloss:0.06576\tvalidation_1-error:0.24407\tvalidation_1-logloss:0.72958\n"
     ]
    },
    {
     "data": {
      "text/plain": [
       "XGBClassifier(base_score=0.5, booster='gbtree', colsample_bylevel=1,\n",
       "              colsample_bynode=1, colsample_bytree=1, gamma=0, gpu_id=-1,\n",
       "              importance_type='gain', interaction_constraints='',\n",
       "              learning_rate=0.300000012, max_delta_step=0, max_depth=6,\n",
       "              min_child_weight=1, missing=nan, monotone_constraints='()',\n",
       "              n_estimators=100, n_jobs=0, num_parallel_tree=1,\n",
       "              objective='binary:logistic', random_state=0, reg_alpha=0,\n",
       "              reg_lambda=1, scale_pos_weight=1, subsample=1,\n",
       "              tree_method='exact', validate_parameters=1, verbosity=None)"
      ]
     },
     "execution_count": 31,
     "metadata": {},
     "output_type": "execute_result"
    }
   ],
   "source": [
    "#model\n",
    "model = XGBClassifier()\n",
    "eval_set = [(Xtrain, Ytrain), (xtest, ytest)]\n",
    "model.fit(Xtrain, Ytrain, eval_metric=[\"error\", \"logloss\"], eval_set=eval_set, verbose=True)\n"
   ]
  },
  {
   "cell_type": "code",
   "execution_count": 33,
   "metadata": {},
   "outputs": [],
   "source": [
    "# make predictions for test data\n",
    "predictions = model.predict(xtest)"
   ]
  },
  {
   "cell_type": "code",
   "execution_count": 34,
   "metadata": {},
   "outputs": [
    {
     "name": "stdout",
     "output_type": "stream",
     "text": [
      "Accuracy: 75.59%\n"
     ]
    }
   ],
   "source": [
    "# evaluate predictions\n",
    "accuracy = accuracy_score(ytest, predictions)\n",
    "print(\"Accuracy: %.2f%%\" % (accuracy * 100.0))"
   ]
  },
  {
   "cell_type": "code",
   "execution_count": 35,
   "metadata": {},
   "outputs": [],
   "source": [
    "# retrieve performance metrics\n",
    "results = model.evals_result()\n",
    "epochs = len(results['validation_0']['error'])\n",
    "x_axis = range(0, epochs)"
   ]
  },
  {
   "cell_type": "code",
   "execution_count": 37,
   "metadata": {},
   "outputs": [
    {
     "data": {
      "image/png": "[encoded data removed]",
      "text/plain": [
       "<Figure size 432x288 with 1 Axes>"
      ]
     },
     "metadata": {
      "needs_background": "light"
     },
     "output_type": "display_data"
    }
   ],
   "source": [
    "# plot log loss\n",
    "fig, ax = plt.subplots()\n",
    "ax.plot(x_axis, results['validation_0']['logloss'], label='Train')\n",
    "ax.plot(x_axis, results['validation_1']['logloss'], label='Test')\n",
    "ax.legend()\n",
    "plt.ylabel('Log Loss')\n",
    "plt.title('XGBoost Log Loss')\n",
    "plt.show()"
   ]
  },
  {
   "cell_type": "code",
   "execution_count": 39,
   "metadata": {},
   "outputs": [
    {
     "data": {
      "image/png": "[encoded data removed]",
      "text/plain": [
       "<Figure size 432x288 with 1 Axes>"
      ]
     },
     "metadata": {
      "needs_background": "light"
     },
     "output_type": "display_data"
    }
   ],
   "source": [
    "# plot classification error\n",
    "fig, ax = plt.subplots()\n",
    "ax.plot(x_axis, results['validation_0']['error'], label='Train')\n",
    "ax.plot(x_axis, results['validation_1']['error'], label='Test')\n",
    "ax.legend()\n",
    "plt.ylabel('Classification Error')\n",
    "plt.title('XGBoost Classification Error')\n",
    "plt.show()\n"
   ]
  },
  {
   "cell_type": "code",
   "execution_count": null,
   "metadata": {},
   "outputs": [],
   "source": []
  },
  {
   "cell_type": "markdown",
   "metadata": {},
   "source": [
    "### Early Stopping With XGBoost"
   ]
  },
  {
   "cell_type": "code",
   "execution_count": 41,
   "metadata": {},
   "outputs": [
    {
     "name": "stdout",
     "output_type": "stream",
     "text": [
      "[0]\tvalidation_0-logloss:0.58932\n",
      "Will train until validation_0-logloss hasn't improved in 10 rounds.\n",
      "[1]\tvalidation_0-logloss:0.54358\n",
      "[2]\tvalidation_0-logloss:0.51273\n",
      "[3]\tvalidation_0-logloss:0.50246\n",
      "[4]\tvalidation_0-logloss:0.49620\n",
      "[5]\tvalidation_0-logloss:0.49266\n",
      "[6]\tvalidation_0-logloss:0.49905\n",
      "[7]\tvalidation_0-logloss:0.49828\n",
      "[8]\tvalidation_0-logloss:0.50431\n",
      "[9]\tvalidation_0-logloss:0.51351\n",
      "[10]\tvalidation_0-logloss:0.52460\n",
      "[11]\tvalidation_0-logloss:0.52907\n",
      "[12]\tvalidation_0-logloss:0.53342\n",
      "[13]\tvalidation_0-logloss:0.53669\n",
      "[14]\tvalidation_0-logloss:0.53630\n",
      "[15]\tvalidation_0-logloss:0.53448\n",
      "Stopping. Best iteration:\n",
      "[5]\tvalidation_0-logloss:0.49266\n",
      "\n"
     ]
    },
    {
     "data": {
      "text/plain": [
       "XGBClassifier(base_score=0.5, booster='gbtree', colsample_bylevel=1,\n",
       "              colsample_bynode=1, colsample_bytree=1, gamma=0, gpu_id=-1,\n",
       "              importance_type='gain', interaction_constraints='',\n",
       "              learning_rate=0.300000012, max_delta_step=0, max_depth=6,\n",
       "              min_child_weight=1, missing=nan, monotone_constraints='()',\n",
       "              n_estimators=100, n_jobs=0, num_parallel_tree=1,\n",
       "              objective='binary:logistic', random_state=0, reg_alpha=0,\n",
       "              reg_lambda=1, scale_pos_weight=1, subsample=1,\n",
       "              tree_method='exact', validate_parameters=1, verbosity=None)"
      ]
     },
     "execution_count": 41,
     "metadata": {},
     "output_type": "execute_result"
    }
   ],
   "source": [
    "#model\n",
    "model = XGBClassifier()\n",
    "eval_set = [(xtest, ytest)]\n",
    "model.fit(Xtrain, Ytrain, early_stopping_rounds=10, eval_metric=\"logloss\",eval_set=eval_set, verbose=True)"
   ]
  },
  {
   "cell_type": "code",
   "execution_count": 42,
   "metadata": {},
   "outputs": [],
   "source": [
    "# make predictions for test data\n",
    "predictions = model.predict(xtest)"
   ]
  },
  {
   "cell_type": "code",
   "execution_count": 43,
   "metadata": {},
   "outputs": [
    {
     "name": "stdout",
     "output_type": "stream",
     "text": [
      "Accuracy: 77.29%\n"
     ]
    }
   ],
   "source": [
    "# evaluate predictions\n",
    "accuracy = accuracy_score(ytest, predictions)\n",
    "print(\"Accuracy: %.2f%%\" % (accuracy * 100.0))"
   ]
  },
  {
   "cell_type": "code",
   "execution_count": null,
   "metadata": {},
   "outputs": [],
   "source": []
  },
  {
   "cell_type": "markdown",
   "metadata": {},
   "source": [
    "### Impact of the Number of Threads"
   ]
  },
  {
   "cell_type": "code",
   "execution_count": null,
   "metadata": {},
   "outputs": [],
   "source": []
  },
  {
   "cell_type": "code",
   "execution_count": 49,
   "metadata": {},
   "outputs": [
    {
     "name": "stdout",
     "output_type": "stream",
     "text": [
      "1 0.3919191360473633\n",
      "2 0.21046161651611328\n",
      "3 0.21750998497009277\n",
      "4 0.2542085647583008\n"
     ]
    }
   ],
   "source": [
    "# evaluate the effect of the number of threads\n",
    "results = []\n",
    "num_threads = [1, 2, 3, 4]\n",
    "for n in num_threads:\n",
    "    start = time()\n",
    "    model = XGBClassifier(nthread=n)\n",
    "    model.fit(X, y)\n",
    "    elapsed = time() - start\n",
    "    print(n, elapsed)\n",
    "    results.append(elapsed)\n",
    "    "
   ]
  },
  {
   "cell_type": "code",
   "execution_count": 51,
   "metadata": {},
   "outputs": [
    {
     "data": {
      "image/png": "[encoded data removed]",
      "text/plain": [
       "<Figure size 432x288 with 1 Axes>"
      ]
     },
     "metadata": {
      "needs_background": "light"
     },
     "output_type": "display_data"
    }
   ],
   "source": [
    "# plot results\n",
    "plt.plot(num_threads, results)\n",
    "plt.ylabel('Speed (seconds)')\n",
    "plt.xlabel('Number of Threads')\n",
    "plt.title('XGBoost Training Speed vs Number of Threads')\n",
    "plt.show()\n"
   ]
  },
  {
   "cell_type": "code",
   "execution_count": null,
   "metadata": {},
   "outputs": [],
   "source": []
  },
  {
   "cell_type": "markdown",
   "metadata": {},
   "source": [
    "### Parallelism When Cross Validating XGBoost Models"
   ]
  },
  {
   "cell_type": "code",
   "execution_count": 54,
   "metadata": {},
   "outputs": [],
   "source": [
    "# prepare cross validation\n",
    "kfold = StratifiedKFold(n_splits=10, shuffle=True, random_state=7)\n"
   ]
  },
  {
   "cell_type": "code",
   "execution_count": 57,
   "metadata": {},
   "outputs": [
    {
     "name": "stdout",
     "output_type": "stream",
     "text": [
      "Single Thread XGBoost, Parallel Thread CV: 1.639454\n"
     ]
    }
   ],
   "source": [
    "# Single Thread XGBoost, Parallel Thread CV\n",
    "start = time()\n",
    "model = XGBClassifier(nthread=1)\n",
    "results = cross_val_score(model, X, y, cv=kfold, scoring='neg_log_loss', n_jobs=-1)\n",
    "elapsed = time() - start\n",
    "print(\"Single Thread XGBoost, Parallel Thread CV: %f\" % (elapsed))\n"
   ]
  },
  {
   "cell_type": "code",
   "execution_count": 58,
   "metadata": {},
   "outputs": [
    {
     "name": "stdout",
     "output_type": "stream",
     "text": [
      "Parallel Thread XGBoost, Single Thread CV: 3.377029\n"
     ]
    }
   ],
   "source": [
    "# Parallel Thread XGBoost, Single Thread CV\n",
    "start = time()\n",
    "model = XGBClassifier(nthread=-1)\n",
    "results = cross_val_score(model, X, y, cv=kfold, scoring='neg_log_loss',n_jobs=1)\n",
    "elapsed = time() - start\n",
    "print(\"Parallel Thread XGBoost, Single Thread CV: %f\" % (elapsed))"
   ]
  },
  {
   "cell_type": "code",
   "execution_count": 59,
   "metadata": {},
   "outputs": [
    {
     "name": "stdout",
     "output_type": "stream",
     "text": [
      "Parallel Thread XGBoost and CV: 1.666044\n"
     ]
    }
   ],
   "source": [
    "# Parallel Thread XGBoost and CV\n",
    "start = time()\n",
    "model = XGBClassifier(nthread=-1)\n",
    "results = cross_val_score(model, X, y, cv=kfold, scoring='neg_log_loss',n_jobs=-1)\n",
    "elapsed = time() - start\n",
    "print(\"Parallel Thread XGBoost and CV: %f\" % (elapsed))"
   ]
  },
  {
   "cell_type": "code",
   "execution_count": null,
   "metadata": {},
   "outputs": [],
   "source": []
  },
  {
   "cell_type": "code",
   "execution_count": null,
   "metadata": {},
   "outputs": [],
   "source": []
  }
 ],
 "metadata": {
  "kernelspec": {
   "display_name": "Python 3",
   "language": "python",
   "name": "python3"
  },
  "language_info": {
   "codemirror_mode": {
    "name": "ipython",
    "version": 3
   },
   "file_extension": ".py",
   "mimetype": "text/x-python",
   "name": "python",
   "nbconvert_exporter": "python",
   "pygments_lexer": "ipython3",
   "version": "3.7.4"
  }
 },
 "nbformat": 4,
 "nbformat_minor": 2
}
